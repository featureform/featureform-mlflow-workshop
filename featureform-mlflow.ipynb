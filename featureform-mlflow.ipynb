{
 "cells": [
  {
   "cell_type": "markdown",
   "id": "50df77d0-dae2-4fdf-b638-70bbcbb9f3af",
   "metadata": {},
   "source": [
    "# Install our dependencies"
   ]
  },
  {
   "cell_type": "code",
   "execution_count": 1,
   "id": "42f15d5b-7b08-450c-96ed-241829a8e7f7",
   "metadata": {},
   "outputs": [
    {
     "name": "stdout",
     "output_type": "stream",
     "text": [
      "Requirement already satisfied: featureform in ./.venv/lib/python3.10/site-packages (1.12.0)\n",
      "Requirement already satisfied: mlflow in ./.venv/lib/python3.10/site-packages (2.10.1)\n",
      "Requirement already satisfied: scikit-learn in ./.venv/lib/python3.10/site-packages (1.4.0)\n",
      "Requirement already satisfied: typing-extensions>=4.1.1 in ./.venv/lib/python3.10/site-packages (from featureform) (4.9.0)\n",
      "Requirement already satisfied: typeguard<3.0.0 in ./.venv/lib/python3.10/site-packages (from featureform) (2.13.3)\n",
      "Requirement already satisfied: docker in ./.venv/lib/python3.10/site-packages (from featureform) (6.1.3)\n",
      "Requirement already satisfied: Flask-Cors==3.0.10 in ./.venv/lib/python3.10/site-packages (from featureform) (3.0.10)\n",
      "Requirement already satisfied: dill==0.3.7 in ./.venv/lib/python3.10/site-packages (from featureform) (0.3.7)\n",
      "Requirement already satisfied: pandas<2.2.0,>=1.3.5 in ./.venv/lib/python3.10/site-packages (from featureform) (1.5.3)\n",
      "Requirement already satisfied: validators>=0.20.0 in ./.venv/lib/python3.10/site-packages (from featureform) (0.22.0)\n",
      "Requirement already satisfied: flask<3.0.0 in ./.venv/lib/python3.10/site-packages (from featureform) (2.3.3)\n",
      "Requirement already satisfied: click>=7.1.2 in ./.venv/lib/python3.10/site-packages (from featureform) (8.1.7)\n",
      "Requirement already satisfied: fastparquet in ./.venv/lib/python3.10/site-packages (from featureform) (2023.10.1)\n",
      "Requirement already satisfied: pandasql==0.7.3 in ./.venv/lib/python3.10/site-packages (from featureform) (0.7.3)\n",
      "Requirement already satisfied: protobuf>=3.20.0 in ./.venv/lib/python3.10/site-packages (from featureform) (4.23.3)\n",
      "Requirement already satisfied: numpy>=1.21.6 in ./.venv/lib/python3.10/site-packages (from featureform) (1.24.4)\n",
      "Requirement already satisfied: dataclasses==0.6 in ./.venv/lib/python3.10/site-packages (from featureform) (0.6)\n",
      "Requirement already satisfied: rich in ./.venv/lib/python3.10/site-packages (from featureform) (13.7.0)\n",
      "Requirement already satisfied: sqlalchemy<2.0.0 in ./.venv/lib/python3.10/site-packages (from featureform) (1.4.50)\n",
      "Requirement already satisfied: weaviate-client in ./.venv/lib/python3.10/site-packages (from featureform) (3.25.3)\n",
      "Requirement already satisfied: requests in ./.venv/lib/python3.10/site-packages (from featureform) (2.31.0)\n",
      "Requirement already satisfied: pyarrow in ./.venv/lib/python3.10/site-packages (from featureform) (14.0.2)\n",
      "Requirement already satisfied: grpcio>=1.47.0 in ./.venv/lib/python3.10/site-packages (from featureform) (1.60.0)\n",
      "Requirement already satisfied: pinecone-client in ./.venv/lib/python3.10/site-packages (from featureform) (2.2.4)\n",
      "Requirement already satisfied: Six in ./.venv/lib/python3.10/site-packages (from Flask-Cors==3.0.10->featureform) (1.16.0)\n",
      "Requirement already satisfied: gunicorn<22 in ./.venv/lib/python3.10/site-packages (from mlflow) (21.2.0)\n",
      "Requirement already satisfied: scipy<2 in ./.venv/lib/python3.10/site-packages (from mlflow) (1.11.4)\n",
      "Requirement already satisfied: querystring-parser<2 in ./.venv/lib/python3.10/site-packages (from mlflow) (1.2.4)\n",
      "Requirement already satisfied: gitpython<4,>=2.1.0 in ./.venv/lib/python3.10/site-packages (from mlflow) (3.1.40)\n",
      "Requirement already satisfied: entrypoints<1 in ./.venv/lib/python3.10/site-packages (from mlflow) (0.4)\n",
      "Requirement already satisfied: pyyaml<7,>=5.1 in ./.venv/lib/python3.10/site-packages (from mlflow) (6.0.1)\n",
      "Requirement already satisfied: Jinja2<4,>=2.11 in ./.venv/lib/python3.10/site-packages (from mlflow) (3.1.2)\n",
      "Requirement already satisfied: pytz<2024 in ./.venv/lib/python3.10/site-packages (from mlflow) (2023.3.post1)\n",
      "Requirement already satisfied: importlib-metadata!=4.7.0,<8,>=3.7.0 in ./.venv/lib/python3.10/site-packages (from mlflow) (6.11.0)\n",
      "Requirement already satisfied: sqlparse<1,>=0.4.0 in ./.venv/lib/python3.10/site-packages (from mlflow) (0.4.4)\n",
      "Requirement already satisfied: matplotlib<4 in ./.venv/lib/python3.10/site-packages (from mlflow) (3.8.2)\n",
      "Requirement already satisfied: packaging<24 in ./.venv/lib/python3.10/site-packages (from mlflow) (23.2)\n",
      "Requirement already satisfied: databricks-cli<1,>=0.8.7 in ./.venv/lib/python3.10/site-packages (from mlflow) (0.18.0)\n",
      "Requirement already satisfied: cloudpickle<4 in ./.venv/lib/python3.10/site-packages (from mlflow) (3.0.0)\n",
      "Requirement already satisfied: alembic!=1.10.0,<2 in ./.venv/lib/python3.10/site-packages (from mlflow) (1.13.0)\n",
      "Requirement already satisfied: markdown<4,>=3.3 in ./.venv/lib/python3.10/site-packages (from mlflow) (3.5.1)\n",
      "Requirement already satisfied: threadpoolctl>=2.0.0 in ./.venv/lib/python3.10/site-packages (from scikit-learn) (3.2.0)\n",
      "Requirement already satisfied: joblib>=1.2.0 in ./.venv/lib/python3.10/site-packages (from scikit-learn) (1.3.2)\n",
      "Requirement already satisfied: Mako in ./.venv/lib/python3.10/site-packages (from alembic!=1.10.0,<2->mlflow) (1.3.0)\n",
      "Requirement already satisfied: urllib3<3,>=1.26.7 in ./.venv/lib/python3.10/site-packages (from databricks-cli<1,>=0.8.7->mlflow) (2.1.0)\n",
      "Requirement already satisfied: oauthlib>=3.1.0 in ./.venv/lib/python3.10/site-packages (from databricks-cli<1,>=0.8.7->mlflow) (3.2.2)\n",
      "Requirement already satisfied: tabulate>=0.7.7 in ./.venv/lib/python3.10/site-packages (from databricks-cli<1,>=0.8.7->mlflow) (0.9.0)\n",
      "Requirement already satisfied: pyjwt>=1.7.0 in ./.venv/lib/python3.10/site-packages (from databricks-cli<1,>=0.8.7->mlflow) (2.8.0)\n",
      "Requirement already satisfied: websocket-client>=0.32.0 in ./.venv/lib/python3.10/site-packages (from docker->featureform) (1.7.0)\n",
      "Requirement already satisfied: itsdangerous>=2.1.2 in ./.venv/lib/python3.10/site-packages (from flask<3.0.0->featureform) (2.1.2)\n",
      "Requirement already satisfied: blinker>=1.6.2 in ./.venv/lib/python3.10/site-packages (from flask<3.0.0->featureform) (1.7.0)\n",
      "Requirement already satisfied: Werkzeug>=2.3.7 in ./.venv/lib/python3.10/site-packages (from flask<3.0.0->featureform) (3.0.1)\n",
      "Requirement already satisfied: gitdb<5,>=4.0.1 in ./.venv/lib/python3.10/site-packages (from gitpython<4,>=2.1.0->mlflow) (4.0.11)\n",
      "Requirement already satisfied: zipp>=0.5 in ./.venv/lib/python3.10/site-packages (from importlib-metadata!=4.7.0,<8,>=3.7.0->mlflow) (3.17.0)\n",
      "Requirement already satisfied: MarkupSafe>=2.0 in ./.venv/lib/python3.10/site-packages (from Jinja2<4,>=2.11->mlflow) (2.1.3)\n",
      "Requirement already satisfied: pillow>=8 in ./.venv/lib/python3.10/site-packages (from matplotlib<4->mlflow) (10.1.0)\n",
      "Requirement already satisfied: cycler>=0.10 in ./.venv/lib/python3.10/site-packages (from matplotlib<4->mlflow) (0.12.1)\n",
      "Requirement already satisfied: contourpy>=1.0.1 in ./.venv/lib/python3.10/site-packages (from matplotlib<4->mlflow) (1.2.0)\n",
      "Requirement already satisfied: pyparsing>=2.3.1 in ./.venv/lib/python3.10/site-packages (from matplotlib<4->mlflow) (3.1.1)\n",
      "Requirement already satisfied: fonttools>=4.22.0 in ./.venv/lib/python3.10/site-packages (from matplotlib<4->mlflow) (4.47.0)\n",
      "Requirement already satisfied: python-dateutil>=2.7 in ./.venv/lib/python3.10/site-packages (from matplotlib<4->mlflow) (2.8.2)\n",
      "Requirement already satisfied: kiwisolver>=1.3.1 in ./.venv/lib/python3.10/site-packages (from matplotlib<4->mlflow) (1.4.5)\n",
      "Requirement already satisfied: idna<4,>=2.5 in ./.venv/lib/python3.10/site-packages (from requests->featureform) (3.6)\n",
      "Requirement already satisfied: certifi>=2017.4.17 in ./.venv/lib/python3.10/site-packages (from requests->featureform) (2023.11.17)\n",
      "Requirement already satisfied: charset-normalizer<4,>=2 in ./.venv/lib/python3.10/site-packages (from requests->featureform) (3.3.2)\n",
      "Requirement already satisfied: fsspec in ./.venv/lib/python3.10/site-packages (from fastparquet->featureform) (2023.12.2)\n",
      "Requirement already satisfied: cramjam>=2.3 in ./.venv/lib/python3.10/site-packages (from fastparquet->featureform) (2.7.0)\n",
      "Requirement already satisfied: dnspython>=2.0.0 in ./.venv/lib/python3.10/site-packages (from pinecone-client->featureform) (2.4.2)\n",
      "Requirement already satisfied: tqdm>=4.64.1 in ./.venv/lib/python3.10/site-packages (from pinecone-client->featureform) (4.66.1)\n",
      "Requirement already satisfied: loguru>=0.5.0 in ./.venv/lib/python3.10/site-packages (from pinecone-client->featureform) (0.7.2)\n",
      "Requirement already satisfied: pygments<3.0.0,>=2.13.0 in ./.venv/lib/python3.10/site-packages (from rich->featureform) (2.17.2)\n",
      "Requirement already satisfied: markdown-it-py>=2.2.0 in ./.venv/lib/python3.10/site-packages (from rich->featureform) (3.0.0)\n",
      "Requirement already satisfied: authlib<2.0.0,>=1.2.1 in ./.venv/lib/python3.10/site-packages (from weaviate-client->featureform) (1.3.0)\n",
      "Requirement already satisfied: cryptography in ./.venv/lib/python3.10/site-packages (from authlib<2.0.0,>=1.2.1->weaviate-client->featureform) (41.0.7)\n",
      "Requirement already satisfied: smmap<6,>=3.0.1 in ./.venv/lib/python3.10/site-packages (from gitdb<5,>=4.0.1->gitpython<4,>=2.1.0->mlflow) (5.0.1)\n",
      "Requirement already satisfied: mdurl~=0.1 in ./.venv/lib/python3.10/site-packages (from markdown-it-py>=2.2.0->rich->featureform) (0.1.2)\n",
      "Requirement already satisfied: cffi>=1.12 in ./.venv/lib/python3.10/site-packages (from cryptography->authlib<2.0.0,>=1.2.1->weaviate-client->featureform) (1.16.0)\n",
      "Requirement already satisfied: pycparser in ./.venv/lib/python3.10/site-packages (from cffi>=1.12->cryptography->authlib<2.0.0,>=1.2.1->weaviate-client->featureform) (2.21)\n",
      "\n",
      "\u001b[1m[\u001b[0m\u001b[34;49mnotice\u001b[0m\u001b[1;39;49m]\u001b[0m\u001b[39;49m A new release of pip is available: \u001b[0m\u001b[31;49m23.0.1\u001b[0m\u001b[39;49m -> \u001b[0m\u001b[32;49m24.0\u001b[0m\n",
      "\u001b[1m[\u001b[0m\u001b[34;49mnotice\u001b[0m\u001b[1;39;49m]\u001b[0m\u001b[39;49m To update, run: \u001b[0m\u001b[32;49mpip install --upgrade pip\u001b[0m\n"
     ]
    }
   ],
   "source": [
    "!pip install featureform mlflow scikit-learn --upgrade"
   ]
  },
  {
   "cell_type": "markdown",
   "id": "2c3419bb-15a5-4d6c-97d9-f57305ecc960",
   "metadata": {},
   "source": [
    "# Create a connection to Featureform\n",
    "\n",
    "Featureform is running locally via our docker container. We need to create an insecure connection to it, as our container isn't setup with SSL enabled by default. The API server runs on port 7878, and the dashboard server runs at port 80."
   ]
  },
  {
   "cell_type": "code",
   "execution_count": 2,
   "id": "c2af1774-c1f7-48b5-97c6-d8c2a11b562e",
   "metadata": {},
   "outputs": [
    {
     "name": "stderr",
     "output_type": "stream",
     "text": [
      "TqdmExperimentalWarning: Using `tqdm.autonotebook.tqdm` in notebook mode. Use `tqdm.tqdm` instead to force console mode (e.g. in jupyter console)\n"
     ]
    }
   ],
   "source": [
    "import featureform as ff\n",
    "\n",
    "client = ff.Client(host=\"localhost:7878\", insecure=True)"
   ]
  },
  {
   "cell_type": "markdown",
   "id": "8ff44f40-a9dc-4ab7-9bca-4d7e7e4fd5a5",
   "metadata": {},
   "source": [
    "# Retrieve our relevent resources\n",
    "\n",
    "We created our Postgres and Redis configurations earlier via our definitions.py file. This retrieves those resources from Featureform so we can use them and build off of them."
   ]
  },
  {
   "cell_type": "code",
   "execution_count": 6,
   "id": "320cd526-86ce-4a5f-9b46-0451475d97a0",
   "metadata": {},
   "outputs": [],
   "source": [
    "postgres = ff.get_postgres(\"postgres-quickstart\")\n",
    "redis = ff.get_redis(\"redis-quickstart\")\n",
    "transactions = ff.get_source(\"transactions\", \"raw\")"
   ]
  },
  {
   "cell_type": "markdown",
   "id": "4e99dcf1-35ba-47c7-8822-8489fb2ef16c",
   "metadata": {},
   "source": [
    "# Everything in Featureform can be retrieved as a Dataframe\n",
    "\n",
    "In this case, we're getting our transactions table (variant raw) as a Pandas dataframe. We also support Spark dataframes when using Spark. Every data resource in Featureform can be retrieved as a Dataframe."
   ]
  },
  {
   "cell_type": "code",
   "execution_count": 7,
   "id": "56e4aa83-7476-402c-b8ed-f44000a08464",
   "metadata": {},
   "outputs": [
    {
     "data": {
      "application/vnd.jupyter.widget-view+json": {
       "model_id": "0ce02d4f33c749adaf2c70a7e2bb6265",
       "version_major": 2,
       "version_minor": 0
      },
      "text/plain": [
       "Output()"
      ]
     },
     "metadata": {},
     "output_type": "display_data"
    },
    {
     "name": "stdout",
     "output_type": "stream",
     "text": [
      "Applying Run: 2024-02-06t08-40-14\n",
      "\n"
     ]
    },
    {
     "data": {
      "text/html": [
       "<pre style=\"white-space:pre;overflow-x:auto;line-height:normal;font-family:Menlo,'DejaVu Sans Mono',consolas,'Courier New',monospace\"></pre>\n"
      ],
      "text/plain": []
     },
     "metadata": {},
     "output_type": "display_data"
    },
    {
     "data": {
      "text/html": [
       "<div>\n",
       "<style scoped>\n",
       "    .dataframe tbody tr th:only-of-type {\n",
       "        vertical-align: middle;\n",
       "    }\n",
       "\n",
       "    .dataframe tbody tr th {\n",
       "        vertical-align: top;\n",
       "    }\n",
       "\n",
       "    .dataframe thead th {\n",
       "        text-align: right;\n",
       "    }\n",
       "</style>\n",
       "<table border=\"1\" class=\"dataframe\">\n",
       "  <thead>\n",
       "    <tr style=\"text-align: right;\">\n",
       "      <th></th>\n",
       "      <th>\"transactionid\"</th>\n",
       "      <th>\"customerid\"</th>\n",
       "      <th>\"customerdob\"</th>\n",
       "      <th>\"custlocation\"</th>\n",
       "      <th>\"custaccountbalance\"</th>\n",
       "      <th>\"transactionamount\"</th>\n",
       "      <th>\"timestamp\"</th>\n",
       "      <th>\"isfraud\"</th>\n",
       "    </tr>\n",
       "  </thead>\n",
       "  <tbody>\n",
       "    <tr>\n",
       "      <th>0</th>\n",
       "      <td>T1</td>\n",
       "      <td>C5841053</td>\n",
       "      <td>10/1/94</td>\n",
       "      <td>JAMSHEDPUR</td>\n",
       "      <td>17819.05</td>\n",
       "      <td>25.00</td>\n",
       "      <td>2022-04-09T11:33:09Z</td>\n",
       "      <td>False</td>\n",
       "    </tr>\n",
       "    <tr>\n",
       "      <th>1</th>\n",
       "      <td>T2</td>\n",
       "      <td>C2142763</td>\n",
       "      <td>4/4/57</td>\n",
       "      <td>JHAJJAR</td>\n",
       "      <td>2270.69</td>\n",
       "      <td>27999.00</td>\n",
       "      <td>2022-03-27T01:04:21Z</td>\n",
       "      <td>False</td>\n",
       "    </tr>\n",
       "    <tr>\n",
       "      <th>2</th>\n",
       "      <td>T3</td>\n",
       "      <td>C4417068</td>\n",
       "      <td>26/11/96</td>\n",
       "      <td>MUMBAI</td>\n",
       "      <td>17874.44</td>\n",
       "      <td>459.00</td>\n",
       "      <td>2022-04-07T00:48:14Z</td>\n",
       "      <td>False</td>\n",
       "    </tr>\n",
       "    <tr>\n",
       "      <th>3</th>\n",
       "      <td>T4</td>\n",
       "      <td>C5342380</td>\n",
       "      <td>14/9/73</td>\n",
       "      <td>MUMBAI</td>\n",
       "      <td>866503.21</td>\n",
       "      <td>2060.00</td>\n",
       "      <td>2022-04-14T07:56:59Z</td>\n",
       "      <td>True</td>\n",
       "    </tr>\n",
       "    <tr>\n",
       "      <th>4</th>\n",
       "      <td>T5</td>\n",
       "      <td>C9031234</td>\n",
       "      <td>24/3/88</td>\n",
       "      <td>NAVI MUMBAI</td>\n",
       "      <td>6714.43</td>\n",
       "      <td>1762.50</td>\n",
       "      <td>2022-04-13T07:39:19Z</td>\n",
       "      <td>False</td>\n",
       "    </tr>\n",
       "    <tr>\n",
       "      <th>...</th>\n",
       "      <td>...</td>\n",
       "      <td>...</td>\n",
       "      <td>...</td>\n",
       "      <td>...</td>\n",
       "      <td>...</td>\n",
       "      <td>...</td>\n",
       "      <td>...</td>\n",
       "      <td>...</td>\n",
       "    </tr>\n",
       "    <tr>\n",
       "      <th>995</th>\n",
       "      <td>T998</td>\n",
       "      <td>C1025072</td>\n",
       "      <td>25/6/94</td>\n",
       "      <td>DELHI</td>\n",
       "      <td>4356.19</td>\n",
       "      <td>400.00</td>\n",
       "      <td>2022-04-11T05:27:40Z</td>\n",
       "      <td>True</td>\n",
       "    </tr>\n",
       "    <tr>\n",
       "      <th>996</th>\n",
       "      <td>T999</td>\n",
       "      <td>C7439786</td>\n",
       "      <td>7/11/95</td>\n",
       "      <td>KASHIPUR</td>\n",
       "      <td>1.92</td>\n",
       "      <td>23.00</td>\n",
       "      <td>2022-04-03T08:04:13Z</td>\n",
       "      <td>True</td>\n",
       "    </tr>\n",
       "    <tr>\n",
       "      <th>997</th>\n",
       "      <td>T1000</td>\n",
       "      <td>C5734042</td>\n",
       "      <td>2/2/88</td>\n",
       "      <td>UDAIPUR</td>\n",
       "      <td>57477.29</td>\n",
       "      <td>1269.00</td>\n",
       "      <td>2022-04-10T23:13:14Z</td>\n",
       "      <td>False</td>\n",
       "    </tr>\n",
       "    <tr>\n",
       "      <th>998</th>\n",
       "      <td>T1001</td>\n",
       "      <td>C1225952</td>\n",
       "      <td>15/8/80</td>\n",
       "      <td>AMBALA</td>\n",
       "      <td>161289.86</td>\n",
       "      <td>395.00</td>\n",
       "      <td>2022-04-15T08:45:30Z</td>\n",
       "      <td>False</td>\n",
       "    </tr>\n",
       "    <tr>\n",
       "      <th>999</th>\n",
       "      <td>T1002</td>\n",
       "      <td>C4488674</td>\n",
       "      <td>2/12/59</td>\n",
       "      <td>WRZESNIA</td>\n",
       "      <td>342979.61</td>\n",
       "      <td>21230.06</td>\n",
       "      <td>2022-03-28T23:47:57Z</td>\n",
       "      <td>False</td>\n",
       "    </tr>\n",
       "  </tbody>\n",
       "</table>\n",
       "<p>1000 rows × 8 columns</p>\n",
       "</div>"
      ],
      "text/plain": [
       "    \"transactionid\" \"customerid\" \"customerdob\" \"custlocation\"  \\\n",
       "0                T1     C5841053       10/1/94     JAMSHEDPUR   \n",
       "1                T2     C2142763        4/4/57        JHAJJAR   \n",
       "2                T3     C4417068      26/11/96         MUMBAI   \n",
       "3                T4     C5342380       14/9/73         MUMBAI   \n",
       "4                T5     C9031234       24/3/88    NAVI MUMBAI   \n",
       "..              ...          ...           ...            ...   \n",
       "995            T998     C1025072       25/6/94          DELHI   \n",
       "996            T999     C7439786       7/11/95       KASHIPUR   \n",
       "997           T1000     C5734042        2/2/88        UDAIPUR   \n",
       "998           T1001     C1225952       15/8/80         AMBALA   \n",
       "999           T1002     C4488674       2/12/59       WRZESNIA   \n",
       "\n",
       "     \"custaccountbalance\"  \"transactionamount\"           \"timestamp\"  \\\n",
       "0                17819.05                25.00  2022-04-09T11:33:09Z   \n",
       "1                 2270.69             27999.00  2022-03-27T01:04:21Z   \n",
       "2                17874.44               459.00  2022-04-07T00:48:14Z   \n",
       "3               866503.21              2060.00  2022-04-14T07:56:59Z   \n",
       "4                 6714.43              1762.50  2022-04-13T07:39:19Z   \n",
       "..                    ...                  ...                   ...   \n",
       "995               4356.19               400.00  2022-04-11T05:27:40Z   \n",
       "996                  1.92                23.00  2022-04-03T08:04:13Z   \n",
       "997              57477.29              1269.00  2022-04-10T23:13:14Z   \n",
       "998             161289.86               395.00  2022-04-15T08:45:30Z   \n",
       "999             342979.61             21230.06  2022-03-28T23:47:57Z   \n",
       "\n",
       "     \"isfraud\"  \n",
       "0        False  \n",
       "1        False  \n",
       "2        False  \n",
       "3         True  \n",
       "4        False  \n",
       "..         ...  \n",
       "995       True  \n",
       "996       True  \n",
       "997      False  \n",
       "998      False  \n",
       "999      False  \n",
       "\n",
       "[1000 rows x 8 columns]"
      ]
     },
     "execution_count": 7,
     "metadata": {},
     "output_type": "execute_result"
    }
   ],
   "source": [
    "client.dataframe(transactions, limit=1000)"
   ]
  },
  {
   "cell_type": "markdown",
   "id": "09edd999-13c1-4e73-96bc-9a8b4b754132",
   "metadata": {},
   "source": [
    "# Creating our first transformations!"
   ]
  },
  {
   "cell_type": "code",
   "execution_count": 8,
   "id": "46eb2373-ecc8-436a-a225-e794537c436b",
   "metadata": {},
   "outputs": [
    {
     "data": {
      "application/vnd.jupyter.widget-view+json": {
       "model_id": "c718da004fe74bf2a01e1c909da39411",
       "version_major": 2,
       "version_minor": 0
      },
      "text/plain": [
       "Output()"
      ]
     },
     "metadata": {},
     "output_type": "display_data"
    },
    {
     "name": "stdout",
     "output_type": "stream",
     "text": [
      "Applying Run: 2024-02-06t08-40-31\n",
      "Creating source perc_balance 2024-02-06t08-40-31\n",
      "\n"
     ]
    },
    {
     "data": {
      "text/html": [
       "<pre style=\"white-space:pre;overflow-x:auto;line-height:normal;font-family:Menlo,'DejaVu Sans Mono',consolas,'Courier New',monospace\"></pre>\n"
      ],
      "text/plain": []
     },
     "metadata": {},
     "output_type": "display_data"
    },
    {
     "data": {
      "text/html": [
       "<div>\n",
       "<style scoped>\n",
       "    .dataframe tbody tr th:only-of-type {\n",
       "        vertical-align: middle;\n",
       "    }\n",
       "\n",
       "    .dataframe tbody tr th {\n",
       "        vertical-align: top;\n",
       "    }\n",
       "\n",
       "    .dataframe thead th {\n",
       "        text-align: right;\n",
       "    }\n",
       "</style>\n",
       "<table border=\"1\" class=\"dataframe\">\n",
       "  <thead>\n",
       "    <tr style=\"text-align: right;\">\n",
       "      <th></th>\n",
       "      <th>\"transactionid\"</th>\n",
       "      <th>\"customerid\"</th>\n",
       "      <th>\"customerdob\"</th>\n",
       "      <th>\"custlocation\"</th>\n",
       "      <th>\"custaccountbalance\"</th>\n",
       "      <th>\"transactionamount\"</th>\n",
       "      <th>\"timestamp\"</th>\n",
       "      <th>\"isfraud\"</th>\n",
       "      <th>\"balancepercent\"</th>\n",
       "    </tr>\n",
       "  </thead>\n",
       "  <tbody>\n",
       "    <tr>\n",
       "      <th>0</th>\n",
       "      <td>T1</td>\n",
       "      <td>C5841053</td>\n",
       "      <td>10/1/94</td>\n",
       "      <td>JAMSHEDPUR</td>\n",
       "      <td>17819.05</td>\n",
       "      <td>25.00</td>\n",
       "      <td>2022-04-09T11:33:09Z</td>\n",
       "      <td>False</td>\n",
       "      <td>0.001403</td>\n",
       "    </tr>\n",
       "    <tr>\n",
       "      <th>1</th>\n",
       "      <td>T2</td>\n",
       "      <td>C2142763</td>\n",
       "      <td>4/4/57</td>\n",
       "      <td>JHAJJAR</td>\n",
       "      <td>2270.69</td>\n",
       "      <td>27999.00</td>\n",
       "      <td>2022-03-27T01:04:21Z</td>\n",
       "      <td>False</td>\n",
       "      <td>12.330613</td>\n",
       "    </tr>\n",
       "    <tr>\n",
       "      <th>2</th>\n",
       "      <td>T3</td>\n",
       "      <td>C4417068</td>\n",
       "      <td>26/11/96</td>\n",
       "      <td>MUMBAI</td>\n",
       "      <td>17874.44</td>\n",
       "      <td>459.00</td>\n",
       "      <td>2022-04-07T00:48:14Z</td>\n",
       "      <td>False</td>\n",
       "      <td>0.025679</td>\n",
       "    </tr>\n",
       "    <tr>\n",
       "      <th>3</th>\n",
       "      <td>T4</td>\n",
       "      <td>C5342380</td>\n",
       "      <td>14/9/73</td>\n",
       "      <td>MUMBAI</td>\n",
       "      <td>866503.21</td>\n",
       "      <td>2060.00</td>\n",
       "      <td>2022-04-14T07:56:59Z</td>\n",
       "      <td>True</td>\n",
       "      <td>0.002377</td>\n",
       "    </tr>\n",
       "    <tr>\n",
       "      <th>4</th>\n",
       "      <td>T5</td>\n",
       "      <td>C9031234</td>\n",
       "      <td>24/3/88</td>\n",
       "      <td>NAVI MUMBAI</td>\n",
       "      <td>6714.43</td>\n",
       "      <td>1762.50</td>\n",
       "      <td>2022-04-13T07:39:19Z</td>\n",
       "      <td>False</td>\n",
       "      <td>0.262494</td>\n",
       "    </tr>\n",
       "    <tr>\n",
       "      <th>...</th>\n",
       "      <td>...</td>\n",
       "      <td>...</td>\n",
       "      <td>...</td>\n",
       "      <td>...</td>\n",
       "      <td>...</td>\n",
       "      <td>...</td>\n",
       "      <td>...</td>\n",
       "      <td>...</td>\n",
       "      <td>...</td>\n",
       "    </tr>\n",
       "    <tr>\n",
       "      <th>995</th>\n",
       "      <td>T998</td>\n",
       "      <td>C1025072</td>\n",
       "      <td>25/6/94</td>\n",
       "      <td>DELHI</td>\n",
       "      <td>4356.19</td>\n",
       "      <td>400.00</td>\n",
       "      <td>2022-04-11T05:27:40Z</td>\n",
       "      <td>True</td>\n",
       "      <td>0.091823</td>\n",
       "    </tr>\n",
       "    <tr>\n",
       "      <th>996</th>\n",
       "      <td>T999</td>\n",
       "      <td>C7439786</td>\n",
       "      <td>7/11/95</td>\n",
       "      <td>KASHIPUR</td>\n",
       "      <td>1.92</td>\n",
       "      <td>23.00</td>\n",
       "      <td>2022-04-03T08:04:13Z</td>\n",
       "      <td>True</td>\n",
       "      <td>11.979167</td>\n",
       "    </tr>\n",
       "    <tr>\n",
       "      <th>997</th>\n",
       "      <td>T1000</td>\n",
       "      <td>C5734042</td>\n",
       "      <td>2/2/88</td>\n",
       "      <td>UDAIPUR</td>\n",
       "      <td>57477.29</td>\n",
       "      <td>1269.00</td>\n",
       "      <td>2022-04-10T23:13:14Z</td>\n",
       "      <td>False</td>\n",
       "      <td>0.022078</td>\n",
       "    </tr>\n",
       "    <tr>\n",
       "      <th>998</th>\n",
       "      <td>T1001</td>\n",
       "      <td>C1225952</td>\n",
       "      <td>15/8/80</td>\n",
       "      <td>AMBALA</td>\n",
       "      <td>161289.86</td>\n",
       "      <td>395.00</td>\n",
       "      <td>2022-04-15T08:45:30Z</td>\n",
       "      <td>False</td>\n",
       "      <td>0.002449</td>\n",
       "    </tr>\n",
       "    <tr>\n",
       "      <th>999</th>\n",
       "      <td>T1002</td>\n",
       "      <td>C4488674</td>\n",
       "      <td>2/12/59</td>\n",
       "      <td>WRZESNIA</td>\n",
       "      <td>342979.61</td>\n",
       "      <td>21230.06</td>\n",
       "      <td>2022-03-28T23:47:57Z</td>\n",
       "      <td>False</td>\n",
       "      <td>0.061899</td>\n",
       "    </tr>\n",
       "  </tbody>\n",
       "</table>\n",
       "<p>1000 rows × 9 columns</p>\n",
       "</div>"
      ],
      "text/plain": [
       "    \"transactionid\" \"customerid\" \"customerdob\" \"custlocation\"  \\\n",
       "0                T1     C5841053       10/1/94     JAMSHEDPUR   \n",
       "1                T2     C2142763        4/4/57        JHAJJAR   \n",
       "2                T3     C4417068      26/11/96         MUMBAI   \n",
       "3                T4     C5342380       14/9/73         MUMBAI   \n",
       "4                T5     C9031234       24/3/88    NAVI MUMBAI   \n",
       "..              ...          ...           ...            ...   \n",
       "995            T998     C1025072       25/6/94          DELHI   \n",
       "996            T999     C7439786       7/11/95       KASHIPUR   \n",
       "997           T1000     C5734042        2/2/88        UDAIPUR   \n",
       "998           T1001     C1225952       15/8/80         AMBALA   \n",
       "999           T1002     C4488674       2/12/59       WRZESNIA   \n",
       "\n",
       "     \"custaccountbalance\"  \"transactionamount\"           \"timestamp\"  \\\n",
       "0                17819.05                25.00  2022-04-09T11:33:09Z   \n",
       "1                 2270.69             27999.00  2022-03-27T01:04:21Z   \n",
       "2                17874.44               459.00  2022-04-07T00:48:14Z   \n",
       "3               866503.21              2060.00  2022-04-14T07:56:59Z   \n",
       "4                 6714.43              1762.50  2022-04-13T07:39:19Z   \n",
       "..                    ...                  ...                   ...   \n",
       "995               4356.19               400.00  2022-04-11T05:27:40Z   \n",
       "996                  1.92                23.00  2022-04-03T08:04:13Z   \n",
       "997              57477.29              1269.00  2022-04-10T23:13:14Z   \n",
       "998             161289.86               395.00  2022-04-15T08:45:30Z   \n",
       "999             342979.61             21230.06  2022-03-28T23:47:57Z   \n",
       "\n",
       "     \"isfraud\"  \"balancepercent\"  \n",
       "0        False          0.001403  \n",
       "1        False         12.330613  \n",
       "2        False          0.025679  \n",
       "3         True          0.002377  \n",
       "4        False          0.262494  \n",
       "..         ...               ...  \n",
       "995       True          0.091823  \n",
       "996       True         11.979167  \n",
       "997      False          0.022078  \n",
       "998      False          0.002449  \n",
       "999      False          0.061899  \n",
       "\n",
       "[1000 rows x 9 columns]"
      ]
     },
     "execution_count": 8,
     "metadata": {},
     "output_type": "execute_result"
    }
   ],
   "source": [
    "@postgres.sql_transformation(inputs=[transactions])\n",
    "def perc_balance(tbl):\n",
    "  \"\"\" The transaction amount divided by the customer account balance.\n",
    "  It handles NaNs and Inf by defaulting to 100% if the denominator is 0.\n",
    "  \"\"\"\n",
    "  return \"\"\"SELECT *,\n",
    "       CASE\n",
    "           WHEN custaccountbalance != 0 THEN transactionamount / custaccountbalance\n",
    "           ELSE 0.0\n",
    "       END AS balancepercent\n",
    "FROM {{tbl}};\"\"\"\n",
    "client.dataframe(perc_balance, limit=1000)"
   ]
  },
  {
   "cell_type": "code",
   "execution_count": 9,
   "id": "4d9bf93e-2569-48bb-9cd8-26158137dc9d",
   "metadata": {},
   "outputs": [
    {
     "data": {
      "application/vnd.jupyter.widget-view+json": {
       "model_id": "dc7bd3ec546a443591be9a9ad6435b6d",
       "version_major": 2,
       "version_minor": 0
      },
      "text/plain": [
       "Output()"
      ]
     },
     "metadata": {},
     "output_type": "display_data"
    },
    {
     "name": "stdout",
     "output_type": "stream",
     "text": [
      "Applying Run: 2024-02-06t08-40-36\n",
      "Creating source window_aggs 2024-02-06t08-40-36\n",
      "\n"
     ]
    },
    {
     "data": {
      "text/html": [
       "<pre style=\"white-space:pre;overflow-x:auto;line-height:normal;font-family:Menlo,'DejaVu Sans Mono',consolas,'Courier New',monospace\"></pre>\n"
      ],
      "text/plain": []
     },
     "metadata": {},
     "output_type": "display_data"
    },
    {
     "data": {
      "text/html": [
       "<div>\n",
       "<style scoped>\n",
       "    .dataframe tbody tr th:only-of-type {\n",
       "        vertical-align: middle;\n",
       "    }\n",
       "\n",
       "    .dataframe tbody tr th {\n",
       "        vertical-align: top;\n",
       "    }\n",
       "\n",
       "    .dataframe thead th {\n",
       "        text-align: right;\n",
       "    }\n",
       "</style>\n",
       "<table border=\"1\" class=\"dataframe\">\n",
       "  <thead>\n",
       "    <tr style=\"text-align: right;\">\n",
       "      <th></th>\n",
       "      <th>\"transactionid\"</th>\n",
       "      <th>\"customerid\"</th>\n",
       "      <th>\"customerdob\"</th>\n",
       "      <th>\"custlocation\"</th>\n",
       "      <th>\"custaccountbalance\"</th>\n",
       "      <th>\"transactionamount\"</th>\n",
       "      <th>\"timestamp\"</th>\n",
       "      <th>\"isfraud\"</th>\n",
       "      <th>\"rollingmean\"</th>\n",
       "      <th>\"rollingcount\"</th>\n",
       "    </tr>\n",
       "  </thead>\n",
       "  <tbody>\n",
       "    <tr>\n",
       "      <th>0</th>\n",
       "      <td>T3852</td>\n",
       "      <td>C5124051</td>\n",
       "      <td>1/1/1800</td>\n",
       "      <td>PATIALA</td>\n",
       "      <td>131981.39</td>\n",
       "      <td>500.0</td>\n",
       "      <td>2022-03-25T22:22:52Z</td>\n",
       "      <td>True</td>\n",
       "      <td>500.0</td>\n",
       "      <td>1</td>\n",
       "    </tr>\n",
       "    <tr>\n",
       "      <th>1</th>\n",
       "      <td>T2174</td>\n",
       "      <td>C1173037</td>\n",
       "      <td>5/3/84</td>\n",
       "      <td>BANGALORE</td>\n",
       "      <td>19357.86</td>\n",
       "      <td>592.0</td>\n",
       "      <td>2022-03-25T22:25:59Z</td>\n",
       "      <td>True</td>\n",
       "      <td>592.0</td>\n",
       "      <td>1</td>\n",
       "    </tr>\n",
       "    <tr>\n",
       "      <th>2</th>\n",
       "      <td>T5306</td>\n",
       "      <td>C2623913</td>\n",
       "      <td>18/1/78</td>\n",
       "      <td>GURGAON</td>\n",
       "      <td>204863.48</td>\n",
       "      <td>2376.0</td>\n",
       "      <td>2022-03-25T22:30:38Z</td>\n",
       "      <td>False</td>\n",
       "      <td>2376.0</td>\n",
       "      <td>1</td>\n",
       "    </tr>\n",
       "    <tr>\n",
       "      <th>3</th>\n",
       "      <td>T9897</td>\n",
       "      <td>C8718541</td>\n",
       "      <td>19/6/87</td>\n",
       "      <td>VADODARA</td>\n",
       "      <td>199291.43</td>\n",
       "      <td>2234.0</td>\n",
       "      <td>2022-03-25T22:32:44Z</td>\n",
       "      <td>True</td>\n",
       "      <td>2234.0</td>\n",
       "      <td>1</td>\n",
       "    </tr>\n",
       "    <tr>\n",
       "      <th>4</th>\n",
       "      <td>T5765</td>\n",
       "      <td>C2132853</td>\n",
       "      <td>30/11/92</td>\n",
       "      <td>RANGA REDDY</td>\n",
       "      <td>6354.44</td>\n",
       "      <td>298.0</td>\n",
       "      <td>2022-03-25T22:40:31Z</td>\n",
       "      <td>True</td>\n",
       "      <td>298.0</td>\n",
       "      <td>1</td>\n",
       "    </tr>\n",
       "    <tr>\n",
       "      <th>...</th>\n",
       "      <td>...</td>\n",
       "      <td>...</td>\n",
       "      <td>...</td>\n",
       "      <td>...</td>\n",
       "      <td>...</td>\n",
       "      <td>...</td>\n",
       "      <td>...</td>\n",
       "      <td>...</td>\n",
       "      <td>...</td>\n",
       "      <td>...</td>\n",
       "    </tr>\n",
       "    <tr>\n",
       "      <th>995</th>\n",
       "      <td>T756</td>\n",
       "      <td>C3027447</td>\n",
       "      <td>30/6/87</td>\n",
       "      <td>DELHI</td>\n",
       "      <td>20247.07</td>\n",
       "      <td>550.0</td>\n",
       "      <td>2022-03-28T23:52:17Z</td>\n",
       "      <td>True</td>\n",
       "      <td>550.0</td>\n",
       "      <td>1</td>\n",
       "    </tr>\n",
       "    <tr>\n",
       "      <th>996</th>\n",
       "      <td>T6111</td>\n",
       "      <td>C6326571</td>\n",
       "      <td>21/3/85</td>\n",
       "      <td>KOTHANUR BANGALORE</td>\n",
       "      <td>21368.44</td>\n",
       "      <td>392.0</td>\n",
       "      <td>2022-03-28T23:55:29Z</td>\n",
       "      <td>False</td>\n",
       "      <td>392.0</td>\n",
       "      <td>1</td>\n",
       "    </tr>\n",
       "    <tr>\n",
       "      <th>997</th>\n",
       "      <td>T33</td>\n",
       "      <td>C1889073</td>\n",
       "      <td>25/2/85</td>\n",
       "      <td>BANGALORE</td>\n",
       "      <td>57791.69</td>\n",
       "      <td>760.0</td>\n",
       "      <td>2022-03-29T00:05:17Z</td>\n",
       "      <td>False</td>\n",
       "      <td>760.0</td>\n",
       "      <td>1</td>\n",
       "    </tr>\n",
       "    <tr>\n",
       "      <th>998</th>\n",
       "      <td>T2834</td>\n",
       "      <td>C3031174</td>\n",
       "      <td>13/1/93</td>\n",
       "      <td>MUMBAI</td>\n",
       "      <td>11852.45</td>\n",
       "      <td>831.0</td>\n",
       "      <td>2022-03-29T00:05:56Z</td>\n",
       "      <td>True</td>\n",
       "      <td>831.0</td>\n",
       "      <td>1</td>\n",
       "    </tr>\n",
       "    <tr>\n",
       "      <th>999</th>\n",
       "      <td>T4803</td>\n",
       "      <td>C1113031</td>\n",
       "      <td>26/8/87</td>\n",
       "      <td>NEW DELHI</td>\n",
       "      <td>82967.38</td>\n",
       "      <td>100.0</td>\n",
       "      <td>2022-03-29T00:09:41Z</td>\n",
       "      <td>False</td>\n",
       "      <td>100.0</td>\n",
       "      <td>1</td>\n",
       "    </tr>\n",
       "  </tbody>\n",
       "</table>\n",
       "<p>1000 rows × 10 columns</p>\n",
       "</div>"
      ],
      "text/plain": [
       "    \"transactionid\" \"customerid\" \"customerdob\"      \"custlocation\"  \\\n",
       "0             T3852     C5124051      1/1/1800             PATIALA   \n",
       "1             T2174     C1173037        5/3/84           BANGALORE   \n",
       "2             T5306     C2623913       18/1/78             GURGAON   \n",
       "3             T9897     C8718541       19/6/87            VADODARA   \n",
       "4             T5765     C2132853      30/11/92         RANGA REDDY   \n",
       "..              ...          ...           ...                 ...   \n",
       "995            T756     C3027447       30/6/87               DELHI   \n",
       "996           T6111     C6326571       21/3/85  KOTHANUR BANGALORE   \n",
       "997             T33     C1889073       25/2/85           BANGALORE   \n",
       "998           T2834     C3031174       13/1/93              MUMBAI   \n",
       "999           T4803     C1113031       26/8/87           NEW DELHI   \n",
       "\n",
       "     \"custaccountbalance\"  \"transactionamount\"           \"timestamp\"  \\\n",
       "0               131981.39                500.0  2022-03-25T22:22:52Z   \n",
       "1                19357.86                592.0  2022-03-25T22:25:59Z   \n",
       "2               204863.48               2376.0  2022-03-25T22:30:38Z   \n",
       "3               199291.43               2234.0  2022-03-25T22:32:44Z   \n",
       "4                 6354.44                298.0  2022-03-25T22:40:31Z   \n",
       "..                    ...                  ...                   ...   \n",
       "995              20247.07                550.0  2022-03-28T23:52:17Z   \n",
       "996              21368.44                392.0  2022-03-28T23:55:29Z   \n",
       "997              57791.69                760.0  2022-03-29T00:05:17Z   \n",
       "998              11852.45                831.0  2022-03-29T00:05:56Z   \n",
       "999              82967.38                100.0  2022-03-29T00:09:41Z   \n",
       "\n",
       "     \"isfraud\"  \"rollingmean\"  \"rollingcount\"  \n",
       "0         True          500.0               1  \n",
       "1         True          592.0               1  \n",
       "2        False         2376.0               1  \n",
       "3         True         2234.0               1  \n",
       "4         True          298.0               1  \n",
       "..         ...            ...             ...  \n",
       "995       True          550.0               1  \n",
       "996      False          392.0               1  \n",
       "997      False          760.0               1  \n",
       "998       True          831.0               1  \n",
       "999      False          100.0               1  \n",
       "\n",
       "[1000 rows x 10 columns]"
      ]
     },
     "execution_count": 9,
     "metadata": {},
     "output_type": "execute_result"
    }
   ],
   "source": [
    "@postgres.sql_transformation(inputs=[transactions])\n",
    "def window_aggs(tbl):\n",
    "  \"\"\" Adds two columns: mean and count.\n",
    "  mean is the average transaction amount of the last 30 transactions at the time of the transaction in the row.\n",
    "  count is the number of transactions if that number is less than 30.\n",
    "  \"\"\"\n",
    "  return \"\"\"SELECT *,\n",
    "       AVG(transactionamount) OVER (PARTITION BY customerid ORDER BY timestamp ROWS BETWEEN 29 PRECEDING AND CURRENT ROW) AS rollingmean,\n",
    "       COUNT(transactionamount) OVER (PARTITION BY customerid ORDER BY timestamp ROWS BETWEEN 29 PRECEDING AND CURRENT ROW) AS rollingcount\n",
    "FROM {{tbl}}\n",
    "ORDER BY timestamp;\"\"\"\n",
    "\n",
    "client.dataframe(window_aggs, limit=1000)"
   ]
  },
  {
   "cell_type": "markdown",
   "id": "5b352829-2539-4cf8-9c15-e44a1811c1ab",
   "metadata": {},
   "source": [
    "# Creating our Features and Training Set"
   ]
  },
  {
   "cell_type": "code",
   "execution_count": 13,
   "id": "794e98a1-b4db-4abb-9bb4-aed08b643d4d",
   "metadata": {},
   "outputs": [
    {
     "name": "stdout",
     "output_type": "stream",
     "text": [
      "Applying Run: 2024-02-06t08-42-24\n",
      "Creating entity user\n",
      "Creating feature avg_trans 2024-02-06t08-42-24\n",
      "Looks like an equivalent feature variant already exists, going to use its variant:  2024-02-06t08-40-42\n",
      "Creating feature balance simple\n",
      "Looks like an equivalent feature variant already exists, going to use its variant:  simple\n",
      "Creating feature perc 2024-02-06t08-42-24\n",
      "Looks like an equivalent feature variant already exists, going to use its variant:  2024-02-06t08-42-16\n",
      "Creating label is_fraud 2024-02-06t08-42-24\n",
      "Looks like an equivalent label variant already exists, going to use its variant:  2024-02-06t08-40-42\n"
     ]
    },
    {
     "data": {
      "application/vnd.jupyter.widget-view+json": {
       "model_id": "975e9a939b2e46159d4d1a10f2e99817",
       "version_major": 2,
       "version_minor": 0
      },
      "text/plain": [
       "Output()"
      ]
     },
     "metadata": {},
     "output_type": "display_data"
    },
    {
     "name": "stdout",
     "output_type": "stream",
     "text": [
      "Creating training-set fraud basic\n",
      "\n"
     ]
    },
    {
     "data": {
      "text/html": [
       "<pre style=\"white-space:pre;overflow-x:auto;line-height:normal;font-family:Menlo,'DejaVu Sans Mono',consolas,'Courier New',monospace\"></pre>\n"
      ],
      "text/plain": []
     },
     "metadata": {},
     "output_type": "display_data"
    }
   ],
   "source": [
    "@ff.entity\n",
    "class User:\n",
    "    is_fraud = ff.Label(transactions[[\"customerid\", \"isfraud\", \"timestamp\"]], type=ff.Bool)\n",
    "    avg_trans = ff.Feature(window_aggs[[\"customerid\", \"rollingmean\", \"timestamp\"]], type=ff.Float32, inference_store=redis)\n",
    "    balance = ff.Feature(transactions[[\"customerid\", \"custaccountbalance\", \"timestamp\"]], variant=\"simple\", type=ff.Float32, inference_store=redis)\n",
    "    perc = ff.Feature(perc_balance[[\"customerid\", \"balancepercent\", \"timestamp\"]], type=ff.Float32, inference_store=redis)\n",
    "\n",
    "ts = ff.register_training_set(\"fraud\", variant=\"basic\", label=User.is_fraud, features=[User.avg_trans, User.perc])\n",
    "\n",
    "client.apply()"
   ]
  },
  {
   "cell_type": "markdown",
   "id": "309a8de1-ed73-4fee-a82d-4d0a1bdbf773",
   "metadata": {},
   "source": [
    "# Training with MLFlow"
   ]
  },
  {
   "cell_type": "code",
   "execution_count": 14,
   "id": "107d8e3a-9d78-4a05-aa8f-1516ebb9a94b",
   "metadata": {},
   "outputs": [
    {
     "name": "stdout",
     "output_type": "stream",
     "text": [
      "      feature__avg_trans__2024-02-06t08-40-42  \\\n",
      "0                                       25.00   \n",
      "1                                    27999.00   \n",
      "2                                      459.00   \n",
      "3                                     2060.00   \n",
      "4                                     1762.50   \n",
      "...                                       ...   \n",
      "9976                                    50.00   \n",
      "9977                                   444.00   \n",
      "9978                                   480.00   \n",
      "9979                                   271.37   \n",
      "9980                                  1878.20   \n",
      "\n",
      "      feature__perc__2024-02-06t08-42-16  label  \n",
      "0                               0.001403  False  \n",
      "1                              12.330613  False  \n",
      "2                               0.025679  False  \n",
      "3                               0.002377   True  \n",
      "4                               0.262494  False  \n",
      "...                                  ...    ...  \n",
      "9976                            0.003979  False  \n",
      "9977                            3.556837  False  \n",
      "9978                            0.001069   True  \n",
      "9979                            0.001909   True  \n",
      "9980                            0.143829  False  \n",
      "\n",
      "[9981 rows x 3 columns]\n",
      "Accuracy: 0.513269904857286\n"
     ]
    },
    {
     "name": "stderr",
     "output_type": "stream",
     "text": [
      "DeprecationWarning: The distutils package is deprecated and slated for removal in Python 3.12. Use setuptools or check PEP 632 for potential alternatives\n",
      "Successfully registered model 'ff-mlflow-workshop-xgboost-2024-02-06-08-43-04'.\n",
      "2024/02/06 08:43:08 INFO mlflow.store.model_registry.abstract_store: Waiting up to 300 seconds for model version to finish creation. Model name: ff-mlflow-workshop-xgboost-2024-02-06-08-43-04, version 1\n",
      "Created version '1' of model 'ff-mlflow-workshop-xgboost-2024-02-06-08-43-04'.\n"
     ]
    }
   ],
   "source": [
    "from sklearn.ensemble import RandomForestClassifier\n",
    "from sklearn.metrics import accuracy_score\n",
    "from sklearn.model_selection import train_test_split\n",
    "from datetime import datetime\n",
    "import mlflow\n",
    "\n",
    "current_time = datetime.now().strftime(\"%Y-%m-%d-%H-%M-%S\")\n",
    "model_name = \"ff-mlflow-workshop-xgboost-\" + current_time\n",
    "ts_name = \"fraud\"\n",
    "ts_variant = \"basic\"\n",
    "random_state = 42\n",
    "test_size=0.2\n",
    "ff_url = f\"internal-sandbox.featureform.com/training-sets/{ts_name}?variant={ts_variant}\"\n",
    "ts = client.training_set(ts_name, ts_variant, model=model_name).dataframe()\n",
    "print(ts)\n",
    "\n",
    "mlflow.set_tracking_uri(\"http://localhost:8000\")\n",
    "\n",
    "X = ts.drop('label', axis=1)\n",
    "y = ts['label']\n",
    "# Split the data into training and test sets\n",
    "X_train, X_test, y_train, y_test = train_test_split(X, y, test_size=test_size, random_state=random_state)\n",
    "with mlflow.start_run() as run:\n",
    "    # Create and train RandomForest model\n",
    "    rf = RandomForestClassifier()\n",
    "    rf.fit(X_train, y_train)\n",
    "\n",
    "    # Make predictions\n",
    "    y_pred = rf.predict(X_test)\n",
    "\n",
    "    # Calculate accuracy\n",
    "    accuracy = accuracy_score(y_test, y_pred)\n",
    "    print(\"Accuracy:\", accuracy)\n",
    "\n",
    "    # Log parameters, metrics, and model to MLflow\n",
    "    mlflow.log_param(\"training_set_name\", ts_name)\n",
    "    mlflow.log_param(\"training_set_variant\", ts_variant)\n",
    "    mlflow.log_param(\"featureform_url\", ff_url)\n",
    "    mlflow.log_param(\"random_state\", random_state)\n",
    "    mlflow.log_param(\"test_size\", test_size)\n",
    "    mlflow.log_param(\"model_type\", \"sklearn.ensemble.RandomForestClassifier\")\n",
    "    mlflow.log_metric(\"accuracy\", accuracy)\n",
    "    mlflow.sklearn.log_model(rf, \"model\")\n",
    "    run_id = run.info.run_id\n",
    "    model_uri = f\"runs:/{run_id}/model\"\n",
    "    mlflow.register_model(model_uri, model_name)"
   ]
  },
  {
   "cell_type": "markdown",
   "id": "ca80d8c7-475c-43d8-bcb0-5c55fd528b71",
   "metadata": {},
   "source": [
    "# Serving in Production with MLFlow and OnDemandFeatures"
   ]
  },
  {
   "cell_type": "code",
   "execution_count": 15,
   "id": "5b1ff400-fe23-41b2-90ee-83e6248833ca",
   "metadata": {},
   "outputs": [
    {
     "data": {
      "application/vnd.jupyter.widget-view+json": {
       "model_id": "f759276673f147738d34505eecc99ddc",
       "version_major": 2,
       "version_minor": 0
      },
      "text/plain": [
       "Output()"
      ]
     },
     "metadata": {},
     "output_type": "display_data"
    },
    {
     "name": "stdout",
     "output_type": "stream",
     "text": [
      "Applying Run: 2024-02-06t08-42-52\n",
      "Creating ondemand_feature ondemand_percent simple\n",
      "\n"
     ]
    },
    {
     "data": {
      "text/html": [
       "<pre style=\"white-space:pre;overflow-x:auto;line-height:normal;font-family:Menlo,'DejaVu Sans Mono',consolas,'Courier New',monospace\"></pre>\n"
      ],
      "text/plain": []
     },
     "metadata": {},
     "output_type": "display_data"
    }
   ],
   "source": [
    "@ff.ondemand_feature(variant=\"simple\")\n",
    "def ondemand_percent(client, params, entities):\n",
    "  import featureform as ff\n",
    "  return params[\"TransactionAmount\"] / client.features([(\"balance\", \"simple\")], entities=entities)[0]\n",
    "\n",
    "client.apply()"
   ]
  },
  {
   "cell_type": "code",
   "execution_count": 16,
   "id": "43fca6a4-5df4-41f8-97aa-78de45b3db27",
   "metadata": {},
   "outputs": [
    {
     "name": "stdout",
     "output_type": "stream",
     "text": [
      "[500.0, 0.007576825757513873]\n"
     ]
    },
    {
     "name": "stderr",
     "output_type": "stream",
     "text": [
      "FutureWarning: ``mlflow.tracking.client.MlflowClient.get_latest_versions`` is deprecated since 2.9.0. Model registry stages will be removed in a future major release. To learn more about the deprecation of model registry stages, see our migration guide here: https://mlflow.org/docs/2.10.1/model-registry.html#migrating-from-stages\n"
     ]
    },
    {
     "data": {
      "application/vnd.jupyter.widget-view+json": {
       "model_id": "2e28c675010044488ceab1e71876ad9c",
       "version_major": 2,
       "version_minor": 0
      },
      "text/plain": [
       "Downloading artifacts:   0%|          | 0/5 [00:00<?, ?it/s]"
      ]
     },
     "metadata": {},
     "output_type": "display_data"
    },
    {
     "name": "stderr",
     "output_type": "stream",
     "text": [
      "UserWarning: X does not have valid feature names, but RandomForestClassifier was fitted with feature names\n"
     ]
    },
    {
     "data": {
      "text/plain": [
       "array([False])"
      ]
     },
     "execution_count": 16,
     "metadata": {},
     "output_type": "execute_result"
    },
    {
     "name": "stderr",
     "output_type": "stream",
     "text": [
      "E0206 08:46:23.989275000 6214283264 chttp2_transport.cc:1290]          ipv6:%5B::1%5D:7878: Received a GOAWAY with error code ENHANCE_YOUR_CALM and debug data equal to \"too_many_pings\". Current keepalive time (before throttling): 60000ms\n"
     ]
    }
   ],
   "source": [
    "import mlflow\n",
    "f = client.features([User.avg_trans, (\"ondemand_percent\", \"simple\")],\n",
    "                params={\"TransactionAmount\": 1000.0},\n",
    "                entities={\"user\": \"C5124051\"})\n",
    "print(f)\n",
    "loaded_model = mlflow.pyfunc.load_model(f\"models:/{model_name}/latest\")\n",
    "loaded_model.predict([f])"
   ]
  }
 ],
 "metadata": {
  "kernelspec": {
   "display_name": "venv-mlflow",
   "language": "python",
   "name": "venv-mlflow"
  },
  "language_info": {
   "codemirror_mode": {
    "name": "ipython",
    "version": 3
   },
   "file_extension": ".py",
   "mimetype": "text/x-python",
   "name": "python",
   "nbconvert_exporter": "python",
   "pygments_lexer": "ipython3",
   "version": "3.10.12"
  }
 },
 "nbformat": 4,
 "nbformat_minor": 5
}
